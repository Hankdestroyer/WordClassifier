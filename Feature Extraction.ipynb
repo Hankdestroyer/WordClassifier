{
 "cells": [
  {
   "cell_type": "code",
   "execution_count": 1,
   "id": "32d92406",
   "metadata": {},
   "outputs": [
    {
     "name": "stdout",
     "output_type": "stream",
     "text": [
      "Características extraídas y etiquetas guardadas en:  features_with_labels.csv\n"
     ]
    }
   ],
   "source": [
    "import librosa\n",
    "import numpy as np\n",
    "import pandas as pd\n",
    "from os import listdir\n",
    "from os.path import isfile, join\n",
    "\n",
    "# Rutas de las carpetas que contienen los archivos de audio\n",
    "audio_folders = [\"./Output/Adelante\", \"./Output/Atrás\", \"./Output/Izquierda\", \"./Output/Derecha\"]\n",
    "\n",
    "# Lista para almacenar los datos\n",
    "data = []\n",
    "\n",
    "# Recorrer cada carpeta de audio\n",
    "for folder_path in audio_folders:\n",
    "    audio_files = [f for f in listdir(folder_path) if isfile(join(folder_path, f))]\n",
    "    \n",
    "    # Obtener la etiqueta basada en el nombre de la carpeta\n",
    "    label = folder_path.split(\"/\")[-1]\n",
    "    \n",
    "    # Recorrer cada archivo de audio en la carpeta\n",
    "    for audio_file in audio_files:\n",
    "        file_path = join(folder_path, audio_file)\n",
    "\n",
    "        # Cargar el archivo de audio usando librosa\n",
    "        y, sr = librosa.load(file_path)\n",
    "\n",
    "        # Calcular las características de audio utilizando librosa\n",
    "        chroma_stft_mean = np.mean(librosa.feature.chroma_stft(y=y, sr=sr))\n",
    "        chroma_stft_var = np.var(librosa.feature.chroma_stft(y=y, sr=sr))\n",
    "        rms_mean = np.mean(librosa.feature.rms(y=y))\n",
    "        rms_var = np.var(librosa.feature.rms(y=y))\n",
    "        spectral_centroid_mean = np.mean(librosa.feature.spectral_centroid(y=y, sr=sr))\n",
    "        spectral_centroid_var = np.var(librosa.feature.spectral_centroid(y=y, sr=sr))\n",
    "        spectral_bandwidth_mean = np.mean(librosa.feature.spectral_bandwidth(y=y, sr=sr))\n",
    "        spectral_bandwidth_var = np.var(librosa.feature.spectral_bandwidth(y=y, sr=sr))\n",
    "        # Agregar más características aquí...\n",
    "\n",
    "        # Calcular las nuevas características\n",
    "        rolloff_mean = np.mean(librosa.feature.spectral_rolloff(y=y, sr=sr))\n",
    "        rolloff_var = np.var(librosa.feature.spectral_rolloff(y=y, sr=sr))\n",
    "        zero_crossing_rate_mean = np.mean(librosa.feature.zero_crossing_rate(y))\n",
    "        zero_crossing_rate_var = np.var(librosa.feature.zero_crossing_rate(y))\n",
    "        harmony_mean = np.mean(librosa.effects.harmonic(y))\n",
    "        harmony_var = np.var(librosa.effects.harmonic(y))\n",
    "        perceptr_mean = np.mean(librosa.effects.percussive(y))\n",
    "        perceptr_var = np.var(librosa.effects.percussive(y))\n",
    "        tempo, _ = librosa.beat.beat_track(y=y, sr=sr)\n",
    "\n",
    "        # Calcular los coeficientes MFCC\n",
    "        mfccs = librosa.feature.mfcc(y=y, sr=sr, n_mfcc=20)\n",
    "        mfcc_means = np.mean(mfccs, axis=1)\n",
    "        mfcc_vars = np.var(mfccs, axis=1)\n",
    "\n",
    "        # Agregar los valores a la lista de datos\n",
    "        data.append([chroma_stft_mean, chroma_stft_var, rms_mean, rms_var,\n",
    "                     spectral_centroid_mean, spectral_centroid_var, spectral_bandwidth_mean, spectral_bandwidth_var,\n",
    "                     rolloff_mean, rolloff_var, zero_crossing_rate_mean, zero_crossing_rate_var,\n",
    "                     harmony_mean, harmony_var, perceptr_mean, perceptr_var,\n",
    "                     tempo] + list(mfcc_means) + list(mfcc_vars) + [label])\n",
    "\n",
    "# Crear un DataFrame de pandas con los datos\n",
    "columns = ['chroma_stft_mean', 'chroma_stft_var', 'rms_mean', 'rms_var',\n",
    "           'spectral_centroid_mean', 'spectral_centroid_var', 'spectral_bandwidth_mean', 'spectral_bandwidth_var',\n",
    "           'rolloff_mean', 'rolloff_var', 'zero_crossing_rate_mean', 'zero_crossing_rate_var',\n",
    "           'harmony_mean', 'harmony_var', 'perceptr_mean', 'perceptr_var',\n",
    "           'tempo'] + [f'mfcc{i}_mean' for i in range(1, 21)] + [f'mfcc{i}_var' for i in range(1, 21)] + ['label']\n",
    "df = pd.DataFrame(data, columns=columns)\n",
    "\n",
    "# Guardar el DataFrame en un archivo CSV\n",
    "output_csv = \"features_with_labels.csv\"\n",
    "df.to_csv(output_csv, index=False)\n",
    "\n",
    "print(\"Características extraídas y etiquetas guardadas en: \", output_csv)\n"
   ]
  },
  {
   "cell_type": "code",
   "execution_count": null,
   "id": "a7abe564",
   "metadata": {},
   "outputs": [],
   "source": []
  }
 ],
 "metadata": {
  "kernelspec": {
   "display_name": "Python 3",
   "language": "python",
   "name": "python3"
  },
  "language_info": {
   "codemirror_mode": {
    "name": "ipython",
    "version": 3
   },
   "file_extension": ".py",
   "mimetype": "text/x-python",
   "name": "python",
   "nbconvert_exporter": "python",
   "pygments_lexer": "ipython3",
   "version": "3.8.5"
  }
 },
 "nbformat": 4,
 "nbformat_minor": 5
}
